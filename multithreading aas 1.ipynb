{
 "cells": [
  {
   "cell_type": "markdown",
   "id": "a032a718-4095-4c0d-bc84-319d45445594",
   "metadata": {},
   "source": [
    "# Q1 what is multithreading in python? why is it used? Name the module used to handle threads in python"
   ]
  },
  {
   "cell_type": "markdown",
   "id": "9c93d459-978e-4a40-b3f7-13f86083a8fb",
   "metadata": {},
   "source": [
    "### multithreading mean implent a multiple thread in single processor and it is used beceause it helped in proper used of spaced and improves the performes "
   ]
  },
  {
   "cell_type": "markdown",
   "id": "b3e102c0-ae7d-44ee-bfcb-401a8ba6618e",
   "metadata": {},
   "source": [
    "### To use the threading module in Python, you need to import it using the following "
   ]
  },
  {
   "cell_type": "code",
   "execution_count": 2,
   "id": "7054c5c7-b9b8-4670-ab7d-3dc3df81ce24",
   "metadata": {},
   "outputs": [],
   "source": [
    "import threading\n",
    "\n"
   ]
  },
  {
   "cell_type": "code",
   "execution_count": 3,
   "id": "72e1c661-e6ac-4d67-aa11-fbaa6b69b68b",
   "metadata": {},
   "outputs": [],
   "source": [
    "def test(id) :\n",
    "    print(\"prog start \" , id)"
   ]
  },
  {
   "cell_type": "code",
   "execution_count": 4,
   "id": "d1c618bf-d28e-4a1f-9b30-2645baa15ea3",
   "metadata": {},
   "outputs": [],
   "source": [
    "thread = [threading.Thread(target = test , args = (i,)) for i in range (10)]"
   ]
  },
  {
   "cell_type": "code",
   "execution_count": 6,
   "id": "7ee9c492-b044-415e-9adb-024e71876b29",
   "metadata": {},
   "outputs": [
    {
     "name": "stdout",
     "output_type": "stream",
     "text": [
      "prog start  0\n",
      "prog start  1\n",
      "prog start  2\n",
      "prog start  3\n",
      "prog start  4\n",
      "prog start  5\n",
      "prog start  6\n",
      "prog start  7\n",
      "prog start  8\n",
      "prog start  9\n"
     ]
    }
   ],
   "source": [
    "for t in thread :\n",
    "    t.start()"
   ]
  },
  {
   "cell_type": "markdown",
   "id": "a7db7eb0-3379-4b13-a909-cf18af5038e3",
   "metadata": {},
   "source": [
    "# Q 2 why threading module used? write the use of the following functions\n",
    "#  activeCount()\n",
    "#  currentThread()\n",
    "#  enumerate()"
   ]
  },
  {
   "cell_type": "markdown",
   "id": "4b0b9415-cea4-4f97-afbd-860760021165",
   "metadata": {},
   "source": [
    "### The threading module in Python is used to handle threads and provide a high-level interface for creating, controlling, and synchronizing threads within a Python program\n",
    "### activeCount(): The activeCount() function is used to retrieve the current number of Thread objects active in the program\n",
    "### currentThread(): The currentThread() function is used to retrieve the current Thread object corresponding to the calling thread. \n",
    "### enumerate(): The enumerate() function is used to retrieve a list of all Thread objects currently alive. It returns a list of Thread objects representing all the active threads in the program."
   ]
  },
  {
   "cell_type": "markdown",
   "id": "a72a767c-f7cb-4559-a382-1b4ed72aedca",
   "metadata": {},
   "source": [
    "# 3. Explain the following functions\n",
    "# run()\n",
    "# start()\n",
    "# join()\n",
    "# isAlive()"
   ]
  },
  {
   "cell_type": "markdown",
   "id": "92a40bf1-f55c-40bb-bf93-94c03368b3f5",
   "metadata": {},
   "source": [
    "### : The run() function is not directly used from the threading module, but it is the method that gets executed when a Thread object's start() method is called.\n",
    "### start(): The start() function is used to start the execution of a thread. It creates a new thread of execution and calls the run() method of the associated Thread object.\n",
    "### join(): The join() function is used to wait for the completion of a thread. It blocks the execution of the calling thread until the associated thread finishes its execution.\n",
    "### isAlive(): The isAlive() function is used to check whether a thread is currently alive or has completed its execution. It returns True if the thread is currently running, and False if it has completed or has not started yet. "
   ]
  },
  {
   "cell_type": "markdown",
   "id": "550d05dd-dcee-4324-bad5-5e1e69a8b7d8",
   "metadata": {},
   "source": [
    "# Q4. write a python program to create two threads. Thread one must print the list of squares and thread two must print the list of cubes"
   ]
  },
  {
   "cell_type": "code",
   "execution_count": null,
   "id": "32e5a1e3-242f-4162-b23f-fb97ebbaa01e",
   "metadata": {},
   "outputs": [
    {
     "name": "stdout",
     "output_type": "stream",
     "text": [
      "Square of 1: 1\n",
      "Square of 2: 4\n",
      "Square of 3: 9\n",
      "Square of 4: 16\n",
      "Square of 5: 25\n",
      "Cube of 1: 1\n",
      "Cube of 2: 8\n",
      "Cube of 3: 27\n",
      "Cube of 4: 64\n",
      "Cube of 5: 125\n"
     ]
    }
   ],
   "source": [
    "import threading\n",
    "\n",
    "def print_squares():\n",
    "    for num in range(1, 6):\n",
    "        square = num ** 2\n",
    "        print(f\"Square of {num}: {square}\")\n",
    "\n",
    "def print_cubes():\n",
    "    for num in range(1, 6):\n",
    "        cube = num ** 3\n",
    "        print(f\"Cube of {num}: {cube}\")\n",
    "\n",
    "# Create the threads\n",
    "thread1 = threading.Thread(target=print_squares)\n",
    "thread2 = threading.Thread(target=print_cubes)\n",
    "\n",
    "# Start the threads\n",
    "thread1.start()\n",
    "thread2.start()\n",
    "\n",
    "# Wait for the threads to complete their execution\n",
    "thread1.join()\n",
    "thread2.join()"
   ]
  },
  {
   "cell_type": "markdown",
   "id": "b6c19da7-b4cd-4e01-9664-6e614cddafa1",
   "metadata": {},
   "source": [
    "### Advantages of Multithreading:\n",
    "\n",
    "### Concurrency and Responsiveness: Multithreading allows a program to perform multiple tasks simultaneously, making it more responsive to user interactions. For example, a user interface can remain responsive while a background thread handles time-consuming tasks.\n",
    "\n",
    "### Efficient Resource Utilization: In a multi-core processor environment, multithreading can make better use of CPU resources. By dividing tasks among multiple threads, a program can take advantage of available cores, potentially improving overall performance.\n",
    "\n",
    "### Faster Execution: Certain tasks, such as I/O-bound operations, can benefit from multithreading. While one thread is waiting for I/O (e.g., reading from a file or making a network request), another thread can execute, reducing idle time and improving overall execution speed."
   ]
  },
  {
   "cell_type": "markdown",
   "id": "e12889da-2d07-44eb-b8a0-21b6ec665866",
   "metadata": {},
   "source": [
    "### Disadvantages of Multithreading:\n",
    "\n",
    "### Complexity and Difficulty in Debugging: Multithreading introduces potential race conditions, deadlocks, and other synchronization issues. Debugging and identifying such problems can be challenging, as the behavior may be non-deterministic.\n",
    "\n",
    "### Overhead and Performance Issues: Creating and managing threads incurs some overhead, such as memory usage and context switching. If not managed carefully, the excessive creation of threads can lead to performance degradation.\n",
    "\n",
    "### Synchronization Overhead: When multiple threads access shared resources concurrently, synchronization mechanisms like locks and semaphores are necessary to prevent data corruption."
   ]
  },
  {
   "cell_type": "markdown",
   "id": "de2e8a60-6f5e-431c-8f77-2d0537834e2b",
   "metadata": {},
   "source": [
    "# Q6. Explain deadlocks and race conditions."
   ]
  },
  {
   "cell_type": "markdown",
   "id": "5e61e00c-250b-4619-a7ad-02f0685a3ad3",
   "metadata": {},
   "source": [
    "### Deadlock:\n",
    "### A deadlock is a situation where two or more threads or processes are unable to proceed because each is waiting for the other to release a resource. It occurs when there is a circular dependency between two or more threads or processes, each holding a resource that the other needs. As a result, the threads or processes become stuck indefinitely, unable to make progress.\n",
    "\n",
    "### Race Condition:\n",
    "### A race condition occurs when multiple threads or processes access shared data concurrently, and the final outcome of the program depends on the specific order and timing of their execution. It arises when the correctness of the program relies on the relative timing of events or operations."
   ]
  },
  {
   "cell_type": "code",
   "execution_count": null,
   "id": "4e908c43-445e-42fe-b1e5-6e7b717615c4",
   "metadata": {},
   "outputs": [],
   "source": []
  }
 ],
 "metadata": {
  "kernelspec": {
   "display_name": "Python 3 (ipykernel)",
   "language": "python",
   "name": "python3"
  },
  "language_info": {
   "codemirror_mode": {
    "name": "ipython",
    "version": 3
   },
   "file_extension": ".py",
   "mimetype": "text/x-python",
   "name": "python",
   "nbconvert_exporter": "python",
   "pygments_lexer": "ipython3",
   "version": "3.10.8"
  }
 },
 "nbformat": 4,
 "nbformat_minor": 5
}
